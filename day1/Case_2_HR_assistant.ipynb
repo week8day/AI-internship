{
  "nbformat": 4,
  "nbformat_minor": 0,
  "metadata": {
    "colab": {
      "provenance": []
    },
    "kernelspec": {
      "name": "python3",
      "display_name": "Python 3"
    },
    "language_info": {
      "name": "python"
    }
  },
  "cells": [
    {
      "cell_type": "code",
      "execution_count": 1,
      "metadata": {
        "id": "CX7FmM5bzJ0B"
      },
      "outputs": [],
      "source": [
        "#импорт библиотек\n",
        "import numpy as np #подключаем numpy для матричных вычислений"
      ]
    },
    {
      "cell_type": "code",
      "source": [
        "class NeuralNetwork(): #создаем класс Нейросети\n",
        "\n",
        "  def __init__(self, weights = [0.277, 0.246, 0.154, 0.092, 0.077, 0.046, 0.046, 0.031, 0.021, 0.01], bias=0): #конструктор с параметрами по умолчанию\n",
        "    weights.append(1) #добавляем коэффициент 1 для смещения\n",
        "    self.weights = np.array(weights) #преобразуем список весов в numpy массив\n",
        "    self.bias = bias #задаем смещение по конструктору\n",
        "    self.inputs = np.array([0, 0, 0, 0, 0, 0, 0, 0, 0, 0, 0]) #входы по умолчанию нулевые\n",
        "    self.hmin = 1 / (1 + np.exp(0 - self.bias)) #коэффициент для нормализации 1\n",
        "    self.hmax = 1 / (1 + np.exp(-1 - self.bias)) #коэффициент для нормализации 2\n",
        "\n",
        "  def set_inputs(self): #метод подачи данных на вход\n",
        "    print('Ответьте на вопросы по стажировке (оцените условия по шкале от 0 до 1)') #приветствие\n",
        "    x1 = float(input('Повышение зарплаты? ')) #вход1\n",
        "    x2 = float(input('Полезные связи? ')) #вход3   \n",
        "    x3 = float(input('Новые знания? ')) #вход2\n",
        "    x4 = float(input('Практические навыки? ')) #вход4\n",
        "    x5 = float(input('Повышение имиджа? ')) #вход5\n",
        "    x6 = float(input('Смена сферы деятельности? ')) #вход6\n",
        "    x7 = float(input('Дистанционная работа? ')) #вход7\n",
        "    x8 = float(input('Дополнительный заработок? ')) #вход8\n",
        "    x9 = float(input('Карьерный рост? ')) #вход9\n",
        "    x10 = float(input('Место для тусовки? ')) #вход10\n",
        "    self.inputs = np.array([x1, x2, x3, x4, x5, x6, x7, x8, x9, x10, self.bias]) #задание полученных входов и смещения\n",
        "\n",
        "  def forward(self): #метод расчета выхода\n",
        "    self.z = self.inputs @ self.weights #матричное умножение входов и весов\n",
        "    print('Выход скрытого слоя до активации:', round(self.z, 3)) #выход сумматора\n",
        "    self.h = 1 / (1 + np.exp(-self.z)) #активация выхода\n",
        "    print('Выход скрытого слоя после активации:', round(self.h, 3)) #результат активации\n",
        "\n",
        "  def normalize(self): #метод нормализации (расчета вероятности и )\n",
        "    self.p = (self.h - self.hmin) / (self.hmax - self.hmin) #переводим в интервал [0,1]\n",
        "    print('Вероятность соответствия:', round(self.p, 3)) #вывод вероятности\n",
        "    return round(self.p, 3)"
      ],
      "metadata": {
        "id": "PkQ6OEm2zc_h"
      },
      "execution_count": 15,
      "outputs": []
    },
    {
      "cell_type": "code",
      "source": [
        "nn = NeuralNetwork() #создаем объект класса, нашу нейросеть"
      ],
      "metadata": {
        "id": "--mUKydSzoqS"
      },
      "execution_count": 16,
      "outputs": []
    },
    {
      "cell_type": "code",
      "source": [
        "nn.set_inputs() #получаем у пользователя входные данные"
      ],
      "metadata": {
        "colab": {
          "base_uri": "https://localhost:8080/"
        },
        "id": "tIEwMhqL5qWW",
        "outputId": "ab6ed3f9-68db-43bd-8f29-968f28d0616f"
      },
      "execution_count": 19,
      "outputs": [
        {
          "name": "stdout",
          "output_type": "stream",
          "text": [
            "Ответьте на вопросы по стажировке (оцените условия по шкале от 0 до 1)\n",
            "Повышение зарплаты? 1\n",
            "Полезные связи? 0.5\n",
            "Новые знания? 0.7\n",
            "Практические навыки? 0.7\n",
            "Повышение имиджа? 0.3\n",
            "Смена сферы деятельности? 0.7\n",
            "Дистанционная работа? 0.5\n",
            "Дополнительный заработок? 0.8\n",
            "Карьерный рост? 0.5\n",
            "Место для тусовки? 0.1\n"
          ]
        }
      ]
    },
    {
      "cell_type": "code",
      "source": [
        "nn.forward() #расчитываем выход сети"
      ],
      "metadata": {
        "colab": {
          "base_uri": "https://localhost:8080/"
        },
        "id": "c74Byrb65utu",
        "outputId": "a2e06d86-c39f-4cf6-9a33-339c8d71ee86"
      },
      "execution_count": 20,
      "outputs": [
        {
          "output_type": "stream",
          "name": "stdout",
          "text": [
            "Выход скрытого слоя до активации: 0.687\n",
            "Выход скрытого слоя после активации: 0.665\n"
          ]
        }
      ]
    },
    {
      "cell_type": "code",
      "source": [
        "acc = nn.normalize() #рассчитываем вероятность соответствия"
      ],
      "metadata": {
        "colab": {
          "base_uri": "https://localhost:8080/"
        },
        "id": "c95w62E78F5p",
        "outputId": "7e55c4d8-c061-4fa1-f10d-e871b51e7acd"
      },
      "execution_count": 21,
      "outputs": [
        {
          "output_type": "stream",
          "name": "stdout",
          "text": [
            "Вероятность соответствия: 0.715\n"
          ]
        }
      ]
    },
    {
      "cell_type": "code",
      "source": [
        "threshold = 0.7 # порог принятия положительного решения\n",
        "\n",
        "# вывод решения\n",
        "if (acc >= threshold):\n",
        "  print('Решение о приеме: Да')\n",
        "else:\n",
        "  print('Решение о приеме: Нет')"
      ],
      "metadata": {
        "colab": {
          "base_uri": "https://localhost:8080/"
        },
        "id": "_iHMOgK4oye3",
        "outputId": "6e08f1b8-b034-4617-d335-c098ba679095"
      },
      "execution_count": 22,
      "outputs": [
        {
          "output_type": "stream",
          "name": "stdout",
          "text": [
            "Решение о приеме: Да\n"
          ]
        }
      ]
    }
  ]
}