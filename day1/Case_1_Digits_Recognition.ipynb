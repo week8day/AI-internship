{
  "nbformat": 4,
  "nbformat_minor": 0,
  "metadata": {
    "colab": {
      "provenance": []
    },
    "kernelspec": {
      "name": "python3",
      "display_name": "Python 3"
    },
    "language_info": {
      "name": "python"
    }
  },
  "cells": [
    {
      "cell_type": "markdown",
      "source": [
        "# Импортируем библиотеки"
      ],
      "metadata": {
        "id": "riuSqolN7YOO"
      }
    },
    {
      "cell_type": "code",
      "source": [
        "import numpy as np #numpy для работа с матрицами\n",
        "import pandas as pd #для хранения истории обучения и ее визуализации\n",
        "import matplotlib.pyplot as plt #matplotlib для визуализации\n",
        "import seaborn as sns #seaborn для визуализации\n",
        "\n",
        "from sklearn.metrics import classification_report #отчет по классификации\n",
        "from sklearn.metrics import confusion_matrix #матрица ошибок\n",
        "from sklearn.datasets import load_digits #загрузчик датасетов\n",
        "from sklearn.model_selection import train_test_split #авторазбиение на train/test\n",
        "from sklearn.metrics import accuracy_score, f1_score\n",
        "\n",
        "from keras.models import Sequential #последовательная модель (прямого распространения)\n",
        "from keras.layers import Input, Dense, Conv2D, Flatten, BatchNormalization, Activation, MaxPooling2D, Dropout #слои\n",
        "from keras import optimizers #оптимизаторы\n",
        "from keras.losses import CategoricalCrossentropy #категориальная кроссэнтропия\n",
        "from keras.utils import to_categorical #преобразование в категориальные данные"
      ],
      "metadata": {
        "id": "AIl_s1P1Bd1E"
      },
      "execution_count": 479,
      "outputs": []
    },
    {
      "cell_type": "markdown",
      "source": [
        "# Загружаем датасет с рукописными цифрами"
      ],
      "metadata": {
        "id": "nvWn95vk74t1"
      }
    },
    {
      "cell_type": "markdown",
      "source": [
        "Изучим форматы хранения"
      ],
      "metadata": {
        "id": "Squcer1M7959"
      }
    },
    {
      "cell_type": "code",
      "source": [
        "print('Количество изображений и их ширина и высота:', digits.images.shape) #1797 изображений размером 8x8\n",
        "print('Количество объектов и признаков в данных:', digits.data.shape) #1797 изображений с 64 признаками (признак - яркость каждого пикселя)\n",
        "print('Количество меток:', digits.target.shape) #1797 лейблов"
      ],
      "metadata": {
        "colab": {
          "base_uri": "https://localhost:8080/"
        },
        "id": "f0wyx6JoFQYO",
        "outputId": "16250c55-4d35-4601-fe54-8f9fe2685930"
      },
      "execution_count": 487,
      "outputs": [
        {
          "output_type": "stream",
          "name": "stdout",
          "text": [
            "Количество изображений и их ширина и высота: (1797, 8, 8)\n",
            "Количество объектов и признаков в данных: (1797, 64)\n",
            "Количество меток: (1797,)\n"
          ]
        }
      ]
    },
    {
      "cell_type": "markdown",
      "source": [
        "Размерность изображения"
      ],
      "metadata": {
        "id": "HdTmXR5dDpvE"
      }
    },
    {
      "cell_type": "code",
      "source": [
        "image_shape = digits.images.shape[1:] + (1,)\n",
        "image_shape"
      ],
      "metadata": {
        "colab": {
          "base_uri": "https://localhost:8080/"
        },
        "id": "JYrwbnW-QWA5",
        "outputId": "50d64c21-243d-41e3-cb55-7b0824f56e36"
      },
      "execution_count": 481,
      "outputs": [
        {
          "output_type": "execute_result",
          "data": {
            "text/plain": [
              "(8, 8, 1)"
            ]
          },
          "metadata": {},
          "execution_count": 481
        }
      ]
    },
    {
      "cell_type": "markdown",
      "source": [
        "Получим данные"
      ],
      "metadata": {
        "id": "U5DhCZv68Qe4"
      }
    },
    {
      "cell_type": "code",
      "source": [
        "digits = load_digits()"
      ],
      "metadata": {
        "id": "mhYf2joV721F"
      },
      "execution_count": 482,
      "outputs": []
    },
    {
      "cell_type": "code",
      "source": [
        "# преобразуем данные входа в массив numpy\n",
        "images09 = np.asarray(digits.images, dtype='float32') \n",
        "data09 = np.asarray(digits.data, dtype='float32')\n",
        "target09 = np.asarray(digits.target, dtype='int32')\n",
        "\n",
        "# количество классов\n",
        "classes_n = len(np.unique(target09))\n",
        "classes_n"
      ],
      "metadata": {
        "id": "eYwUYajvB3Ee",
        "colab": {
          "base_uri": "https://localhost:8080/"
        },
        "outputId": "a6751aa3-7eac-410f-bccc-9014e99bb35c"
      },
      "execution_count": 483,
      "outputs": [
        {
          "output_type": "execute_result",
          "data": {
            "text/plain": [
              "10"
            ]
          },
          "metadata": {},
          "execution_count": 483
        }
      ]
    },
    {
      "cell_type": "markdown",
      "source": [
        "Выведем изображения для примера"
      ],
      "metadata": {
        "id": "f-azxAkp8G1m"
      }
    },
    {
      "cell_type": "code",
      "source": [
        "df = pd.DataFrame(target09)\n",
        "\n",
        "fig, ax = plt.subplots(2, 5, figsize=(10, 6))\n",
        "\n",
        "for i in range(classes_n):\n",
        "  ax[i // 5][i % 5].imshow(images09[df[0] == i][0], cmap=plt.cm.gray_r, interpolation='nearest')\n",
        "  ax[i // 5][i % 5].set_title(i)\n",
        "\n",
        "plt.show()"
      ],
      "metadata": {
        "id": "_J3J9PbZfn9T",
        "colab": {
          "base_uri": "https://localhost:8080/",
          "height": 347
        },
        "outputId": "0ed00f8c-cb5a-4a2c-e953-48459b08ba1d"
      },
      "execution_count": 419,
      "outputs": [
        {
          "output_type": "display_data",
          "data": {
            "text/plain": [
              "<Figure size 720x432 with 10 Axes>"
            ],
            "image/png": "[encoded data removed]"
          },
          "metadata": {}
        }
      ]
    },
    {
      "cell_type": "markdown",
      "source": [
        "Рассмотрим распределение классов"
      ],
      "metadata": {
        "id": "Ylo4Wicm8aR1"
      }
    },
    {
      "cell_type": "code",
      "source": [
        "sns.set(rc={'figure.figsize':(10, 7)})\n",
        "sns.countplot(x=target09)\n",
        "plt.xlabel(\"category\", size = 12)\n",
        "plt.show()"
      ],
      "metadata": {
        "colab": {
          "base_uri": "https://localhost:8080/",
          "height": 448
        },
        "id": "okb1ZQdTaPvx",
        "outputId": "c93fe1c0-c23f-4259-b520-5e10ca70f4e1"
      },
      "execution_count": null,
      "outputs": [
        {
          "output_type": "display_data",
          "data": {
            "text/plain": [
              "<Figure size 720x504 with 1 Axes>"
            ],
            "image/png": "[encoded data removed]"
          },
          "metadata": {}
        }
      ]
    },
    {
      "cell_type": "markdown",
      "source": [
        "Видно, что классы являются сбалансированными."
      ],
      "metadata": {
        "id": "ZxTxsgfz8eQt"
      }
    },
    {
      "cell_type": "markdown",
      "source": [
        "# Подготовим данные"
      ],
      "metadata": {
        "id": "cHDwLHSqCKVO"
      }
    },
    {
      "cell_type": "markdown",
      "source": [
        "Разобьем выборку на обучающую и тестовую"
      ],
      "metadata": {
        "id": "kAP6LD-wCOwv"
      }
    },
    {
      "cell_type": "code",
      "source": [
        "X_train, X_test, y_train, y_test = train_test_split(X, y, test_size=0.2, random_state=42) #20% на тест, неслучайная повторяемость по состоянию 42\n",
        "print('Количество объектов и признаков в обучающих данных:', X_train.shape)\n",
        "print('Количество меток в обучающих данных:', y_train.shape)\n",
        "print('Количество объектов и признаков в тестовых данных:', X_test.shape)\n",
        "print('Количество меток в тестовых данных:', y_test.shape)"
      ],
      "metadata": {
        "colab": {
          "base_uri": "https://localhost:8080/"
        },
        "id": "KHexnShWGre4",
        "outputId": "b3f95cdb-7270-4ccf-d460-3ba26c51d458"
      },
      "execution_count": 488,
      "outputs": [
        {
          "output_type": "stream",
          "name": "stdout",
          "text": [
            "Количество объектов и признаков в обучающих данных: (1437, 8, 8)\n",
            "Количество меток в обучающих данных: (1437,)\n",
            "Количество объектов и признаков в тестовых данных: (360, 8, 8)\n",
            "Количество меток в тестовых данных: (360,)\n"
          ]
        }
      ]
    },
    {
      "cell_type": "markdown",
      "source": [
        "Преобразуем с помощью one-hot encoding в категориальные данные выходные"
      ],
      "metadata": {
        "id": "_KVorWHeLbZY"
      }
    },
    {
      "cell_type": "code",
      "source": [
        "Y_train = to_categorical(y_train)\n",
        "Y_train[:5] #выведем 5 первых целевых признаков"
      ],
      "metadata": {
        "colab": {
          "base_uri": "https://localhost:8080/"
        },
        "id": "QqUd8fpgHvgR",
        "outputId": "6f17f835-242f-4788-d19d-a53203795fdc"
      },
      "execution_count": 478,
      "outputs": [
        {
          "output_type": "execute_result",
          "data": {
            "text/plain": [
              "array([[0., 0., 0., 0., 0., 0., 1., 0., 0., 0.],\n",
              "       [1., 0., 0., 0., 0., 0., 0., 0., 0., 0.],\n",
              "       [1., 0., 0., 0., 0., 0., 0., 0., 0., 0.],\n",
              "       [0., 0., 0., 1., 0., 0., 0., 0., 0., 0.],\n",
              "       [1., 0., 0., 0., 0., 0., 0., 0., 0., 0.]], dtype=float32)"
            ]
          },
          "metadata": {},
          "execution_count": 478
        }
      ]
    },
    {
      "cell_type": "markdown",
      "source": [
        "# Смоделируем нейронную сеть\n",
        "\n"
      ],
      "metadata": {
        "id": "xXFDoxPRSy7J"
      }
    },
    {
      "cell_type": "code",
      "execution_count": 484,
      "metadata": {
        "id": "Am-nk5YxArRi"
      },
      "outputs": [],
      "source": [
        "model = Sequential() #создаем последовательное соединение слоев с прямым распространением\n",
        "model.add(Conv2D(64, kernel_size=3, strides=(2, 2), input_shape=image_shape, padding='same', activation='relu', name='input'))\n",
        "model.add(Conv2D(64, kernel_size=3, padding='same', activation='relu'))\n",
        "model.add(Conv2D(64, kernel_size=3, padding='same', activation='relu'))\n",
        "model.add(Dropout(0.2))\n",
        "model.add(Conv2D(64, kernel_size=3, padding='same', activation='relu'))\n",
        "model.add(Flatten())\n",
        "model.add(Dropout(0.1))\n",
        "model.add(Dense(128, activation='relu'))\n",
        "model.add(Dense(classes_n, 'softmax')) #создаем выходной слой с активацией softmax"
      ]
    },
    {
      "cell_type": "markdown",
      "source": [
        "Выведем краткую информацию о модели"
      ],
      "metadata": {
        "id": "g8eY7qkLUHgh"
      }
    },
    {
      "cell_type": "code",
      "source": [
        "model.summary()"
      ],
      "metadata": {
        "colab": {
          "base_uri": "https://localhost:8080/"
        },
        "id": "a8Hh2hpxUEHM",
        "outputId": "e48f35eb-ae53-48cb-db11-c22b3dd60ee3"
      },
      "execution_count": 485,
      "outputs": [
        {
          "output_type": "stream",
          "name": "stdout",
          "text": [
            "Model: \"sequential_77\"\n",
            "_________________________________________________________________\n",
            " Layer (type)                Output Shape              Param #   \n",
            "=================================================================\n",
            " input (Conv2D)              (None, 4, 4, 64)          640       \n",
            "                                                                 \n",
            " conv2d_189 (Conv2D)         (None, 4, 4, 64)          36928     \n",
            "                                                                 \n",
            " conv2d_190 (Conv2D)         (None, 4, 4, 64)          36928     \n",
            "                                                                 \n",
            " dropout_106 (Dropout)       (None, 4, 4, 64)          0         \n",
            "                                                                 \n",
            " conv2d_191 (Conv2D)         (None, 4, 4, 64)          36928     \n",
            "                                                                 \n",
            " flatten_69 (Flatten)        (None, 1024)              0         \n",
            "                                                                 \n",
            " dropout_107 (Dropout)       (None, 1024)              0         \n",
            "                                                                 \n",
            " dense_142 (Dense)           (None, 128)               131200    \n",
            "                                                                 \n",
            " dense_143 (Dense)           (None, 10)                1290      \n",
            "                                                                 \n",
            "=================================================================\n",
            "Total params: 243,914\n",
            "Trainable params: 243,914\n",
            "Non-trainable params: 0\n",
            "_________________________________________________________________\n"
          ]
        }
      ]
    },
    {
      "cell_type": "markdown",
      "source": [
        "Компилируем нейронную сеть с методом оптимизации Adam.\n",
        "\n",
        "В качестве функции потерь выбираем категориальную кроссэнтропию.\n",
        "\n",
        "В качестве основной метрики оцениваем accuracy (долю верных распознаваний)."
      ],
      "metadata": {
        "id": "fCCuAoZQTYdJ"
      }
    },
    {
      "cell_type": "code",
      "source": [
        "model.compile(\n",
        "    optimizer='adam',\n",
        "    loss=CategoricalCrossentropy(),\n",
        "    metrics=['accuracy']\n",
        ")"
      ],
      "metadata": {
        "id": "GzEEkVEaTX75"
      },
      "execution_count": null,
      "outputs": []
    },
    {
      "cell_type": "markdown",
      "source": [
        "# Обучаем модель на train датасете"
      ],
      "metadata": {
        "id": "XGQpgPAUS8ah"
      }
    },
    {
      "cell_type": "markdown",
      "source": [
        "Используем 20% данных в качестве валидации.\n",
        "\n",
        "Обучаем в течение 20 эпох и используем на одном этапе обучения 32 примера."
      ],
      "metadata": {
        "id": "ztMXSi50TJdp"
      }
    },
    {
      "cell_type": "code",
      "source": [
        "history = model.fit(X_train, Y_train, validation_split=0.2, epochs=20, batch_size=32)"
      ],
      "metadata": {
        "colab": {
          "base_uri": "https://localhost:8080/"
        },
        "id": "-wYrVGNSS-ap",
        "outputId": "24b756fa-2625-49da-e85b-be608820c981"
      },
      "execution_count": null,
      "outputs": [
        {
          "output_type": "stream",
          "name": "stdout",
          "text": [
            "Epoch 1/20\n",
            "36/36 [==============================] - 3s 39ms/step - loss: 1.0153 - accuracy: 0.6867 - val_loss: 0.3899 - val_accuracy: 0.8958\n",
            "Epoch 2/20\n",
            "36/36 [==============================] - 1s 30ms/step - loss: 0.2734 - accuracy: 0.9112 - val_loss: 0.2689 - val_accuracy: 0.9132\n",
            "Epoch 3/20\n",
            "36/36 [==============================] - 1s 17ms/step - loss: 0.1465 - accuracy: 0.9513 - val_loss: 0.1413 - val_accuracy: 0.9514\n",
            "Epoch 4/20\n",
            "36/36 [==============================] - 1s 17ms/step - loss: 0.0854 - accuracy: 0.9713 - val_loss: 0.1513 - val_accuracy: 0.9444\n",
            "Epoch 5/20\n",
            "36/36 [==============================] - 1s 16ms/step - loss: 0.0542 - accuracy: 0.9809 - val_loss: 0.1272 - val_accuracy: 0.9618\n",
            "Epoch 6/20\n",
            "36/36 [==============================] - 1s 17ms/step - loss: 0.0370 - accuracy: 0.9887 - val_loss: 0.1133 - val_accuracy: 0.9618\n",
            "Epoch 7/20\n",
            "36/36 [==============================] - 1s 17ms/step - loss: 0.0438 - accuracy: 0.9869 - val_loss: 0.1139 - val_accuracy: 0.9583\n",
            "Epoch 8/20\n",
            "36/36 [==============================] - 1s 17ms/step - loss: 0.0197 - accuracy: 0.9956 - val_loss: 0.1235 - val_accuracy: 0.9583\n",
            "Epoch 9/20\n",
            "36/36 [==============================] - 1s 17ms/step - loss: 0.0215 - accuracy: 0.9939 - val_loss: 0.0833 - val_accuracy: 0.9688\n",
            "Epoch 10/20\n",
            "36/36 [==============================] - 1s 17ms/step - loss: 0.0097 - accuracy: 0.9983 - val_loss: 0.1047 - val_accuracy: 0.9757\n",
            "Epoch 11/20\n",
            "36/36 [==============================] - 1s 18ms/step - loss: 0.0044 - accuracy: 1.0000 - val_loss: 0.1094 - val_accuracy: 0.9688\n",
            "Epoch 12/20\n",
            "36/36 [==============================] - 1s 17ms/step - loss: 0.0277 - accuracy: 0.9887 - val_loss: 0.2372 - val_accuracy: 0.9479\n",
            "Epoch 13/20\n",
            "36/36 [==============================] - 1s 17ms/step - loss: 0.0111 - accuracy: 0.9974 - val_loss: 0.1242 - val_accuracy: 0.9653\n",
            "Epoch 14/20\n",
            "36/36 [==============================] - 1s 17ms/step - loss: 0.0266 - accuracy: 0.9930 - val_loss: 0.1208 - val_accuracy: 0.9722\n",
            "Epoch 15/20\n",
            "36/36 [==============================] - 1s 16ms/step - loss: 0.0232 - accuracy: 0.9948 - val_loss: 0.1178 - val_accuracy: 0.9688\n",
            "Epoch 16/20\n",
            "36/36 [==============================] - 1s 17ms/step - loss: 0.0131 - accuracy: 0.9922 - val_loss: 0.0745 - val_accuracy: 0.9792\n",
            "Epoch 17/20\n",
            "36/36 [==============================] - 1s 17ms/step - loss: 0.0110 - accuracy: 0.9956 - val_loss: 0.0761 - val_accuracy: 0.9757\n",
            "Epoch 18/20\n",
            "36/36 [==============================] - 1s 17ms/step - loss: 0.0132 - accuracy: 0.9965 - val_loss: 0.1581 - val_accuracy: 0.9757\n",
            "Epoch 19/20\n",
            "36/36 [==============================] - 1s 27ms/step - loss: 0.0234 - accuracy: 0.9922 - val_loss: 0.1065 - val_accuracy: 0.9722\n",
            "Epoch 20/20\n",
            "36/36 [==============================] - 1s 29ms/step - loss: 0.0092 - accuracy: 0.9965 - val_loss: 0.0746 - val_accuracy: 0.9792\n"
          ]
        }
      ]
    },
    {
      "cell_type": "markdown",
      "source": [
        "Сохраним историю обучения в датафрейме pandas"
      ],
      "metadata": {
        "id": "g9ZUN_NaXZx7"
      }
    },
    {
      "cell_type": "code",
      "source": [
        "history_df = pd.DataFrame(history.history) #создаем датафрейм и записываем туда метрики из истории\n",
        "history_df[\"epoch\"] = history.epoch #создаем столбец с номерами эпох обучения (начинаем с 0)\n",
        "history_df #выводим датафрейм"
      ],
      "metadata": {
        "colab": {
          "base_uri": "https://localhost:8080/",
          "height": 676
        },
        "id": "W0gKb4vCKGNs",
        "outputId": "f33bed84-4e62-406f-a89b-0cd230683213"
      },
      "execution_count": 486,
      "outputs": [
        {
          "output_type": "execute_result",
          "data": {
            "text/plain": [
              "        loss  accuracy  val_loss  val_accuracy  epoch\n",
              "0   1.015259  0.686684  0.389902      0.895833      0\n",
              "1   0.273443  0.911227  0.268919      0.913194      1\n",
              "2   0.146483  0.951262  0.141321      0.951389      2\n",
              "3   0.085360  0.971279  0.151270      0.944444      3\n",
              "4   0.054202  0.980853  0.127158      0.961806      4\n",
              "5   0.036973  0.988686  0.113279      0.961806      5\n",
              "6   0.043844  0.986945  0.113873      0.958333      6\n",
              "7   0.019699  0.995648  0.123475      0.958333      7\n",
              "8   0.021503  0.993908  0.083309      0.968750      8\n",
              "9   0.009715  0.998259  0.104677      0.975694      9\n",
              "10  0.004425  1.000000  0.109407      0.968750     10\n",
              "11  0.027655  0.988686  0.237189      0.947917     11\n",
              "12  0.011091  0.997389  0.124200      0.965278     12\n",
              "13  0.026586  0.993037  0.120782      0.972222     13\n",
              "14  0.023231  0.994778  0.117757      0.968750     14\n",
              "15  0.013061  0.992167  0.074462      0.979167     15\n",
              "16  0.010984  0.995648  0.076112      0.975694     16\n",
              "17  0.013250  0.996519  0.158133      0.975694     17\n",
              "18  0.023382  0.992167  0.106479      0.972222     18\n",
              "19  0.009161  0.996519  0.074568      0.979167     19"
            ],
            "text/html": [
              "\n",
              "  <div id=\"df-7050a05f-00b6-41de-8c96-8420eb6a3165\">\n",
              "    <div class=\"colab-df-container\">\n",
              "      <div>\n",
              "<style scoped>\n",
              "    .dataframe tbody tr th:only-of-type {\n",
              "        vertical-align: middle;\n",
              "    }\n",
              "\n",
              "    .dataframe tbody tr th {\n",
              "        vertical-align: top;\n",
              "    }\n",
              "\n",
              "    .dataframe thead th {\n",
              "        text-align: right;\n",
              "    }\n",
              "</style>\n",
              "<table border=\"1\" class=\"dataframe\">\n",
              "  <thead>\n",
              "    <tr style=\"text-align: right;\">\n",
              "      <th></th>\n",
              "      <th>loss</th>\n",
              "      <th>accuracy</th>\n",
              "      <th>val_loss</th>\n",
              "      <th>val_accuracy</th>\n",
              "      <th>epoch</th>\n",
              "    </tr>\n",
              "  </thead>\n",
              "  <tbody>\n",
              "    <tr>\n",
              "      <th>0</th>\n",
              "      <td>1.015259</td>\n",
              "      <td>0.686684</td>\n",
              "      <td>0.389902</td>\n",
              "      <td>0.895833</td>\n",
              "      <td>0</td>\n",
              "    </tr>\n",
              "    <tr>\n",
              "      <th>1</th>\n",
              "      <td>0.273443</td>\n",
              "      <td>0.911227</td>\n",
              "      <td>0.268919</td>\n",
              "      <td>0.913194</td>\n",
              "      <td>1</td>\n",
              "    </tr>\n",
              "    <tr>\n",
              "      <th>2</th>\n",
              "      <td>0.146483</td>\n",
              "      <td>0.951262</td>\n",
              "      <td>0.141321</td>\n",
              "      <td>0.951389</td>\n",
              "      <td>2</td>\n",
              "    </tr>\n",
              "    <tr>\n",
              "      <th>3</th>\n",
              "      <td>0.085360</td>\n",
              "      <td>0.971279</td>\n",
              "      <td>0.151270</td>\n",
              "      <td>0.944444</td>\n",
              "      <td>3</td>\n",
              "    </tr>\n",
              "    <tr>\n",
              "      <th>4</th>\n",
              "      <td>0.054202</td>\n",
              "      <td>0.980853</td>\n",
              "      <td>0.127158</td>\n",
              "      <td>0.961806</td>\n",
              "      <td>4</td>\n",
              "    </tr>\n",
              "    <tr>\n",
              "      <th>5</th>\n",
              "      <td>0.036973</td>\n",
              "      <td>0.988686</td>\n",
              "      <td>0.113279</td>\n",
              "      <td>0.961806</td>\n",
              "      <td>5</td>\n",
              "    </tr>\n",
              "    <tr>\n",
              "      <th>6</th>\n",
              "      <td>0.043844</td>\n",
              "      <td>0.986945</td>\n",
              "      <td>0.113873</td>\n",
              "      <td>0.958333</td>\n",
              "      <td>6</td>\n",
              "    </tr>\n",
              "    <tr>\n",
              "      <th>7</th>\n",
              "      <td>0.019699</td>\n",
              "      <td>0.995648</td>\n",
              "      <td>0.123475</td>\n",
              "      <td>0.958333</td>\n",
              "      <td>7</td>\n",
              "    </tr>\n",
              "    <tr>\n",
              "      <th>8</th>\n",
              "      <td>0.021503</td>\n",
              "      <td>0.993908</td>\n",
              "      <td>0.083309</td>\n",
              "      <td>0.968750</td>\n",
              "      <td>8</td>\n",
              "    </tr>\n",
              "    <tr>\n",
              "      <th>9</th>\n",
              "      <td>0.009715</td>\n",
              "      <td>0.998259</td>\n",
              "      <td>0.104677</td>\n",
              "      <td>0.975694</td>\n",
              "      <td>9</td>\n",
              "    </tr>\n",
              "    <tr>\n",
              "      <th>10</th>\n",
              "      <td>0.004425</td>\n",
              "      <td>1.000000</td>\n",
              "      <td>0.109407</td>\n",
              "      <td>0.968750</td>\n",
              "      <td>10</td>\n",
              "    </tr>\n",
              "    <tr>\n",
              "      <th>11</th>\n",
              "      <td>0.027655</td>\n",
              "      <td>0.988686</td>\n",
              "      <td>0.237189</td>\n",
              "      <td>0.947917</td>\n",
              "      <td>11</td>\n",
              "    </tr>\n",
              "    <tr>\n",
              "      <th>12</th>\n",
              "      <td>0.011091</td>\n",
              "      <td>0.997389</td>\n",
              "      <td>0.124200</td>\n",
              "      <td>0.965278</td>\n",
              "      <td>12</td>\n",
              "    </tr>\n",
              "    <tr>\n",
              "      <th>13</th>\n",
              "      <td>0.026586</td>\n",
              "      <td>0.993037</td>\n",
              "      <td>0.120782</td>\n",
              "      <td>0.972222</td>\n",
              "      <td>13</td>\n",
              "    </tr>\n",
              "    <tr>\n",
              "      <th>14</th>\n",
              "      <td>0.023231</td>\n",
              "      <td>0.994778</td>\n",
              "      <td>0.117757</td>\n",
              "      <td>0.968750</td>\n",
              "      <td>14</td>\n",
              "    </tr>\n",
              "    <tr>\n",
              "      <th>15</th>\n",
              "      <td>0.013061</td>\n",
              "      <td>0.992167</td>\n",
              "      <td>0.074462</td>\n",
              "      <td>0.979167</td>\n",
              "      <td>15</td>\n",
              "    </tr>\n",
              "    <tr>\n",
              "      <th>16</th>\n",
              "      <td>0.010984</td>\n",
              "      <td>0.995648</td>\n",
              "      <td>0.076112</td>\n",
              "      <td>0.975694</td>\n",
              "      <td>16</td>\n",
              "    </tr>\n",
              "    <tr>\n",
              "      <th>17</th>\n",
              "      <td>0.013250</td>\n",
              "      <td>0.996519</td>\n",
              "      <td>0.158133</td>\n",
              "      <td>0.975694</td>\n",
              "      <td>17</td>\n",
              "    </tr>\n",
              "    <tr>\n",
              "      <th>18</th>\n",
              "      <td>0.023382</td>\n",
              "      <td>0.992167</td>\n",
              "      <td>0.106479</td>\n",
              "      <td>0.972222</td>\n",
              "      <td>18</td>\n",
              "    </tr>\n",
              "    <tr>\n",
              "      <th>19</th>\n",
              "      <td>0.009161</td>\n",
              "      <td>0.996519</td>\n",
              "      <td>0.074568</td>\n",
              "      <td>0.979167</td>\n",
              "      <td>19</td>\n",
              "    </tr>\n",
              "  </tbody>\n",
              "</table>\n",
              "</div>\n",
              "      <button class=\"colab-df-convert\" onclick=\"convertToInteractive('df-7050a05f-00b6-41de-8c96-8420eb6a3165')\"\n",
              "              title=\"Convert this dataframe to an interactive table.\"\n",
              "              style=\"display:none;\">\n",
              "        \n",
              "  <svg xmlns=\"http://www.w3.org/2000/svg\" height=\"24px\"viewBox=\"0 0 24 24\"\n",
              "       width=\"24px\">\n",
              "    <path d=\"M0 0h24v24H0V0z\" fill=\"none\"/>\n",
              "    <path d=\"M18.56 5.44l.94 2.06.94-2.06 2.06-.94-2.06-.94-.94-2.06-.94 2.06-2.06.94zm-11 1L8.5 8.5l.94-2.06 2.06-.94-2.06-.94L8.5 2.5l-.94 2.06-2.06.94zm10 10l.94 2.06.94-2.06 2.06-.94-2.06-.94-.94-2.06-.94 2.06-2.06.94z\"/><path d=\"M17.41 7.96l-1.37-1.37c-.4-.4-.92-.59-1.43-.59-.52 0-1.04.2-1.43.59L10.3 9.45l-7.72 7.72c-.78.78-.78 2.05 0 2.83L4 21.41c.39.39.9.59 1.41.59.51 0 1.02-.2 1.41-.59l7.78-7.78 2.81-2.81c.8-.78.8-2.07 0-2.86zM5.41 20L4 18.59l7.72-7.72 1.47 1.35L5.41 20z\"/>\n",
              "  </svg>\n",
              "      </button>\n",
              "      \n",
              "  <style>\n",
              "    .colab-df-container {\n",
              "      display:flex;\n",
              "      flex-wrap:wrap;\n",
              "      gap: 12px;\n",
              "    }\n",
              "\n",
              "    .colab-df-convert {\n",
              "      background-color: #E8F0FE;\n",
              "      border: none;\n",
              "      border-radius: 50%;\n",
              "      cursor: pointer;\n",
              "      display: none;\n",
              "      fill: #1967D2;\n",
              "      height: 32px;\n",
              "      padding: 0 0 0 0;\n",
              "      width: 32px;\n",
              "    }\n",
              "\n",
              "    .colab-df-convert:hover {\n",
              "      background-color: #E2EBFA;\n",
              "      box-shadow: 0px 1px 2px rgba(60, 64, 67, 0.3), 0px 1px 3px 1px rgba(60, 64, 67, 0.15);\n",
              "      fill: #174EA6;\n",
              "    }\n",
              "\n",
              "    [theme=dark] .colab-df-convert {\n",
              "      background-color: #3B4455;\n",
              "      fill: #D2E3FC;\n",
              "    }\n",
              "\n",
              "    [theme=dark] .colab-df-convert:hover {\n",
              "      background-color: #434B5C;\n",
              "      box-shadow: 0px 1px 3px 1px rgba(0, 0, 0, 0.15);\n",
              "      filter: drop-shadow(0px 1px 2px rgba(0, 0, 0, 0.3));\n",
              "      fill: #FFFFFF;\n",
              "    }\n",
              "  </style>\n",
              "\n",
              "      <script>\n",
              "        const buttonEl =\n",
              "          document.querySelector('#df-7050a05f-00b6-41de-8c96-8420eb6a3165 button.colab-df-convert');\n",
              "        buttonEl.style.display =\n",
              "          google.colab.kernel.accessAllowed ? 'block' : 'none';\n",
              "\n",
              "        async function convertToInteractive(key) {\n",
              "          const element = document.querySelector('#df-7050a05f-00b6-41de-8c96-8420eb6a3165');\n",
              "          const dataTable =\n",
              "            await google.colab.kernel.invokeFunction('convertToInteractive',\n",
              "                                                     [key], {});\n",
              "          if (!dataTable) return;\n",
              "\n",
              "          const docLinkHtml = 'Like what you see? Visit the ' +\n",
              "            '<a target=\"_blank\" href=https://colab.research.google.com/notebooks/data_table.ipynb>data table notebook</a>'\n",
              "            + ' to learn more about interactive tables.';\n",
              "          element.innerHTML = '';\n",
              "          dataTable['output_type'] = 'display_data';\n",
              "          await google.colab.output.renderOutput(dataTable, element);\n",
              "          const docLink = document.createElement('div');\n",
              "          docLink.innerHTML = docLinkHtml;\n",
              "          element.appendChild(docLink);\n",
              "        }\n",
              "      </script>\n",
              "    </div>\n",
              "  </div>\n",
              "  "
            ]
          },
          "metadata": {},
          "execution_count": 486
        }
      ]
    },
    {
      "cell_type": "markdown",
      "source": [
        "Строим кривые обучения"
      ],
      "metadata": {
        "id": "Ai0U8Ec0Xera"
      }
    },
    {
      "cell_type": "code",
      "source": [
        "fig, (ax0, ax1) = plt.subplots(nrows=2, sharex=True, figsize=(10, 8)) #создаем фигуру и оси для отрисовки 2 графиков\n",
        "history_df.plot(x=\"epoch\", y=[\"loss\", \"val_loss\"], ax=ax0, grid=True) #рисуем значения потерь для обучающих и валидационных данных\n",
        "history_df.plot(x=\"epoch\", y=[\"accuracy\", \"val_accuracy\"], ax=ax1, grid=True) #рисуем значения точности для обучающих и валидационных данных"
      ],
      "metadata": {
        "colab": {
          "base_uri": "https://localhost:8080/",
          "height": 525
        },
        "id": "Sxd5vOyLKQia",
        "outputId": "4ad68440-1b22-41e3-88ae-81f2942d82b3"
      },
      "execution_count": null,
      "outputs": [
        {
          "output_type": "execute_result",
          "data": {
            "text/plain": [
              "<matplotlib.axes._subplots.AxesSubplot at 0x7ff0e379b2e0>"
            ]
          },
          "metadata": {},
          "execution_count": 351
        },
        {
          "output_type": "display_data",
          "data": {
            "text/plain": [
              "<Figure size 720x576 with 2 Axes>"
            ],
            "image/png": "[encoded data removed]"
          },
          "metadata": {}
        }
      ]
    },
    {
      "cell_type": "markdown",
      "source": [
        "# Сделаем прогноз для тестовых данных и оценим его"
      ],
      "metadata": {
        "id": "x1RzhGhUYCh7"
      }
    },
    {
      "cell_type": "code",
      "source": [
        "y_pred = np.argmax(model.predict(X_test), axis=1) #прогнозные значения"
      ],
      "metadata": {
        "colab": {
          "base_uri": "https://localhost:8080/"
        },
        "id": "vjICXgoUMyuw",
        "outputId": "37bd832f-04e7-43c6-a554-b13fcf5c29ef"
      },
      "execution_count": null,
      "outputs": [
        {
          "output_type": "stream",
          "name": "stdout",
          "text": [
            "12/12 [==============================] - 0s 7ms/step\n"
          ]
        }
      ]
    },
    {
      "cell_type": "markdown",
      "source": [
        "Отчет о классификации"
      ],
      "metadata": {
        "id": "EEioOcKccsYH"
      }
    },
    {
      "cell_type": "code",
      "source": [
        "print(classification_report(y_test, y_pred))"
      ],
      "metadata": {
        "colab": {
          "base_uri": "https://localhost:8080/"
        },
        "id": "_FgYbCQSco1A",
        "outputId": "5de915bd-6c19-440f-94d9-4c15d2386088"
      },
      "execution_count": 477,
      "outputs": [
        {
          "output_type": "stream",
          "name": "stdout",
          "text": [
            "              precision    recall  f1-score   support\n",
            "\n",
            "           0       1.00      1.00      1.00        33\n",
            "           1       1.00      1.00      1.00        28\n",
            "           2       1.00      1.00      1.00        33\n",
            "           3       1.00      0.97      0.99        34\n",
            "           4       1.00      1.00      1.00        46\n",
            "           5       0.98      0.98      0.98        47\n",
            "           6       0.97      1.00      0.99        35\n",
            "           7       0.97      1.00      0.99        34\n",
            "           8       1.00      1.00      1.00        30\n",
            "           9       1.00      0.97      0.99        40\n",
            "\n",
            "    accuracy                           0.99       360\n",
            "   macro avg       0.99      0.99      0.99       360\n",
            "weighted avg       0.99      0.99      0.99       360\n",
            "\n"
          ]
        }
      ]
    },
    {
      "cell_type": "markdown",
      "source": [
        "Функция вывода матрицы соответствий"
      ],
      "metadata": {
        "id": "szieT8ZbYNCq"
      }
    },
    {
      "cell_type": "code",
      "source": [
        "def cm_plot(y_test, y_pred):\n",
        "    cm = confusion_matrix(y_test, y_pred)\n",
        "    cmn = cm.astype('float') / cm.sum(axis=1)[:, np.newaxis]\n",
        "    fig, ax = plt.subplots(figsize=(10, 10))\n",
        "    sns.heatmap(cmn, cmap='Blues', annot=True, fmt='.2f')\n",
        "    sns.set(font_scale=1.3)\n",
        "    plt.title(\"Confusion Matrix\")\n",
        "    return plt.show()"
      ],
      "metadata": {
        "execution": {
          "iopub.status.busy": "2023-02-10T09:43:53.419726Z",
          "iopub.execute_input": "2023-02-10T09:43:53.420773Z",
          "iopub.status.idle": "2023-02-10T09:43:53.427103Z",
          "shell.execute_reply.started": "2023-02-10T09:43:53.420733Z",
          "shell.execute_reply": "2023-02-10T09:43:53.426014Z"
        },
        "trusted": true,
        "id": "Q7i2qOXoDQzY"
      },
      "execution_count": null,
      "outputs": []
    },
    {
      "cell_type": "markdown",
      "source": [
        "Выведем матрицу соответствий"
      ],
      "metadata": {
        "id": "iVm0GVKLXxvp"
      }
    },
    {
      "cell_type": "code",
      "source": [
        "cm_plot(y_test, y_pred)"
      ],
      "metadata": {
        "colab": {
          "base_uri": "https://localhost:8080/",
          "height": 616
        },
        "id": "k5FNZvauXw8C",
        "outputId": "f8f518c5-88cc-439b-a841-53815ea9435c"
      },
      "execution_count": 412,
      "outputs": [
        {
          "output_type": "display_data",
          "data": {
            "text/plain": [
              "<Figure size 720x720 with 2 Axes>"
            ],
            "image/png": "[encoded data removed]"
          },
          "metadata": {}
        }
      ]
    },
    {
      "cell_type": "markdown",
      "source": [
        "Выведем примеры изображений, которые были распознаны неверно."
      ],
      "metadata": {
        "id": "HsdyFv6oVSQA"
      }
    },
    {
      "cell_type": "code",
      "source": [
        "y_dif = pd.DataFrame(abs(y_test - y_pred))\n",
        "\n",
        "# количество неверно распознанных цифр\n",
        "y_dif_len = len(y_dif[y_dif[0] > 0])\n",
        "y_dif_len"
      ],
      "metadata": {
        "colab": {
          "base_uri": "https://localhost:8080/"
        },
        "id": "gHyK1G2qXe7h",
        "outputId": "99ffd81e-3b64-4e50-9a1b-bfd563645c9a"
      },
      "execution_count": 490,
      "outputs": [
        {
          "output_type": "execute_result",
          "data": {
            "text/plain": [
              "3"
            ]
          },
          "metadata": {},
          "execution_count": 490
        }
      ]
    },
    {
      "cell_type": "code",
      "source": [
        "fig, ax = plt.subplots(1, y_dif_len, figsize=(10, 6))\n",
        "\n",
        "j = 0\n",
        "for i in range(y_dif_len):\n",
        "  ax[j].imshow(X_test[y_dif[0] > 0][i], cmap=plt.cm.gray_r, interpolation='nearest')\n",
        "  ax[j].set_title(str(y_pred[y_dif[0] > 0][i]) + ' (real: ' + str(y_test[y_dif[0] > 0][i]) + ')')\n",
        "  j = j + 1\n",
        "\n",
        "plt.show()"
      ],
      "metadata": {
        "colab": {
          "base_uri": "https://localhost:8080/",
          "height": 237
        },
        "outputId": "6e58e62a-e942-4f1e-a7be-da5006798422",
        "id": "wexxqdjNLLpM"
      },
      "execution_count": 491,
      "outputs": [
        {
          "output_type": "display_data",
          "data": {
            "text/plain": [
              "<Figure size 720x432 with 3 Axes>"
            ],
            "image/png": "[encoded data removed]"
          },
          "metadata": {}
        }
      ]
    }
  ]
}