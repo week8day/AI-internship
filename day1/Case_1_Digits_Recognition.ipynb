{
  "nbformat": 4,
  "nbformat_minor": 0,
  "metadata": {
    "colab": {
      "provenance": []
    },
    "kernelspec": {
      "name": "python3",
      "display_name": "Python 3"
    },
    "language_info": {
      "name": "python"
    }
  },
  "cells": [
    {
      "cell_type": "markdown",
      "source": [
        "# Импортируем библиотеки"
      ],
      "metadata": {
        "id": "riuSqolN7YOO"
      }
    },
    {
      "cell_type": "code",
      "source": [
        "import numpy as np #numpy для работа с матрицами\n",
        "import pandas as pd #для хранения истории обучения и ее визуализации\n",
        "import matplotlib.pyplot as plt #matplotlib для визуализации\n",
        "import seaborn as sns #seaborn для визуализации\n",
        "\n",
        "from sklearn.metrics import classification_report #отчет по классификации\n",
        "from sklearn.metrics import confusion_matrix #матрица ошибок\n",
        "from sklearn.datasets import load_digits #загрузчик датасетов\n",
        "from sklearn.model_selection import train_test_split #авторазбиение на train/test\n",
        "from sklearn.metrics import accuracy_score, f1_score\n",
        "\n",
        "from keras.models import Sequential #последовательная модель (прямого распространения)\n",
        "from keras.layers import Input, Dense, Conv2D, Flatten, BatchNormalization, Activation, MaxPooling2D, Dropout #слои\n",
        "from keras import optimizers #оптимизаторы\n",
        "from keras.losses import CategoricalCrossentropy #категориальная кроссэнтропия\n",
        "from keras.utils import to_categorical #преобразование в категориальные данные"
      ],
      "metadata": {
        "id": "AIl_s1P1Bd1E"
      },
      "execution_count": 90,
      "outputs": []
    },
    {
      "cell_type": "markdown",
      "source": [
        "# Загружаем датасет с рукописными цифрами"
      ],
      "metadata": {
        "id": "nvWn95vk74t1"
      }
    },
    {
      "cell_type": "code",
      "source": [
        "digits = load_digits()"
      ],
      "metadata": {
        "id": "mhYf2joV721F"
      },
      "execution_count": 91,
      "outputs": []
    },
    {
      "cell_type": "markdown",
      "source": [
        "Изучим форматы хранения"
      ],
      "metadata": {
        "id": "Squcer1M7959"
      }
    },
    {
      "cell_type": "code",
      "source": [
        "print('Количество изображений и их ширина и высота:', digits.images.shape) #1797 изображений размером 8x8\n",
        "print('Количество объектов и признаков в данных:', digits.data.shape) #1797 изображений с 64 признаками (признак - яркость каждого пикселя)\n",
        "print('Количество меток:', digits.target.shape) #1797 лейблов"
      ],
      "metadata": {
        "colab": {
          "base_uri": "https://localhost:8080/"
        },
        "id": "f0wyx6JoFQYO",
        "outputId": "83b400c9-67ee-4d68-aa7d-9a259746aa9e"
      },
      "execution_count": 92,
      "outputs": [
        {
          "output_type": "stream",
          "name": "stdout",
          "text": [
            "Количество изображений и их ширина и высота: (1797, 8, 8)\n",
            "Количество объектов и признаков в данных: (1797, 64)\n",
            "Количество меток: (1797,)\n"
          ]
        }
      ]
    },
    {
      "cell_type": "markdown",
      "source": [
        "Размерность изображения"
      ],
      "metadata": {
        "id": "HdTmXR5dDpvE"
      }
    },
    {
      "cell_type": "code",
      "source": [
        "image_shape = digits.images.shape[1:] + (1,)\n",
        "image_shape"
      ],
      "metadata": {
        "colab": {
          "base_uri": "https://localhost:8080/"
        },
        "id": "JYrwbnW-QWA5",
        "outputId": "1fb15a47-2ce3-4891-cd65-0d4db086aadc"
      },
      "execution_count": 93,
      "outputs": [
        {
          "output_type": "execute_result",
          "data": {
            "text/plain": [
              "(8, 8, 1)"
            ]
          },
          "metadata": {},
          "execution_count": 93
        }
      ]
    },
    {
      "cell_type": "markdown",
      "source": [
        "Получим данные"
      ],
      "metadata": {
        "id": "U5DhCZv68Qe4"
      }
    },
    {
      "cell_type": "code",
      "source": [
        "# преобразуем данные входа в массив numpy\n",
        "images09 = np.asarray(digits.images, dtype='float32') \n",
        "data09 = np.asarray(digits.data, dtype='float32')\n",
        "target09 = np.asarray(digits.target, dtype='int32')\n",
        "\n",
        "X = images09\n",
        "y = target09\n",
        "\n",
        "# количество классов\n",
        "classes_n = len(np.unique(target09))\n",
        "classes_n"
      ],
      "metadata": {
        "id": "eYwUYajvB3Ee",
        "colab": {
          "base_uri": "https://localhost:8080/"
        },
        "outputId": "5c120941-456f-44e0-b718-76e3ea7e96f8"
      },
      "execution_count": 94,
      "outputs": [
        {
          "output_type": "execute_result",
          "data": {
            "text/plain": [
              "10"
            ]
          },
          "metadata": {},
          "execution_count": 94
        }
      ]
    },
    {
      "cell_type": "markdown",
      "source": [
        "Выведем изображения для примера"
      ],
      "metadata": {
        "id": "f-azxAkp8G1m"
      }
    },
    {
      "cell_type": "code",
      "source": [
        "df = pd.DataFrame(y)\n",
        "\n",
        "fig, ax = plt.subplots(2, 5, figsize=(10, 6))\n",
        "\n",
        "for i in range(classes_n):\n",
        "  ax[i // 5][i % 5].imshow(images09[df[0] == i][0], cmap=plt.cm.gray_r, interpolation='nearest')\n",
        "  ax[i // 5][i % 5].set_title(i)\n",
        "\n",
        "plt.show()"
      ],
      "metadata": {
        "id": "_J3J9PbZfn9T",
        "colab": {
          "base_uri": "https://localhost:8080/",
          "height": 347
        },
        "outputId": "7485c310-c0fb-49b2-e34a-395775f7cd1f"
      },
      "execution_count": 95,
      "outputs": [
        {
          "output_type": "display_data",
          "data": {
            "text/plain": [
              "<Figure size 720x432 with 10 Axes>"
            ],
            "image/png": "[encoded data removed]"
          },
          "metadata": {}
        }
      ]
    },
    {
      "cell_type": "markdown",
      "source": [
        "Рассмотрим распределение классов"
      ],
      "metadata": {
        "id": "Ylo4Wicm8aR1"
      }
    },
    {
      "cell_type": "code",
      "source": [
        "sns.set(rc={'figure.figsize':(10, 7)})\n",
        "sns.countplot(x=target09)\n",
        "plt.xlabel(\"category\", size = 12)\n",
        "plt.show()"
      ],
      "metadata": {
        "colab": {
          "base_uri": "https://localhost:8080/",
          "height": 448
        },
        "id": "okb1ZQdTaPvx",
        "outputId": "cd52e9d3-30bd-4647-a6ba-952ce9b6cd63"
      },
      "execution_count": 96,
      "outputs": [
        {
          "output_type": "display_data",
          "data": {
            "text/plain": [
              "<Figure size 720x504 with 1 Axes>"
            ],
            "image/png": "[encoded data removed]"
          },
          "metadata": {}
        }
      ]
    },
    {
      "cell_type": "markdown",
      "source": [
        "Видно, что классы являются сбалансированными."
      ],
      "metadata": {
        "id": "ZxTxsgfz8eQt"
      }
    },
    {
      "cell_type": "markdown",
      "source": [
        "# Подготовим данные"
      ],
      "metadata": {
        "id": "cHDwLHSqCKVO"
      }
    },
    {
      "cell_type": "markdown",
      "source": [
        "Разобьем выборку на обучающую и тестовую"
      ],
      "metadata": {
        "id": "kAP6LD-wCOwv"
      }
    },
    {
      "cell_type": "code",
      "source": [
        "X_train, X_test, y_train, y_test = train_test_split(X, y, test_size=0.2, random_state=42) #20% на тест, неслучайная повторяемость по состоянию 42\n",
        "print('Количество объектов и признаков в обучающих данных:', X_train.shape)\n",
        "print('Количество меток в обучающих данных:', y_train.shape)\n",
        "print('Количество объектов и признаков в тестовых данных:', X_test.shape)\n",
        "print('Количество меток в тестовых данных:', y_test.shape)"
      ],
      "metadata": {
        "colab": {
          "base_uri": "https://localhost:8080/"
        },
        "id": "KHexnShWGre4",
        "outputId": "c02f35c7-3f3b-4383-d2a6-bdf9ec233709"
      },
      "execution_count": 97,
      "outputs": [
        {
          "output_type": "stream",
          "name": "stdout",
          "text": [
            "Количество объектов и признаков в обучающих данных: (1437, 8, 8)\n",
            "Количество меток в обучающих данных: (1437,)\n",
            "Количество объектов и признаков в тестовых данных: (360, 8, 8)\n",
            "Количество меток в тестовых данных: (360,)\n"
          ]
        }
      ]
    },
    {
      "cell_type": "markdown",
      "source": [
        "Преобразуем с помощью one-hot encoding в категориальные данные выходные"
      ],
      "metadata": {
        "id": "_KVorWHeLbZY"
      }
    },
    {
      "cell_type": "code",
      "source": [
        "Y_train = to_categorical(y_train)\n",
        "Y_train[:5] #выведем 5 первых целевых признаков"
      ],
      "metadata": {
        "colab": {
          "base_uri": "https://localhost:8080/"
        },
        "id": "QqUd8fpgHvgR",
        "outputId": "b0d71d0c-56e5-4082-c809-1e7815c6a818"
      },
      "execution_count": 98,
      "outputs": [
        {
          "output_type": "execute_result",
          "data": {
            "text/plain": [
              "array([[0., 0., 0., 0., 0., 0., 1., 0., 0., 0.],\n",
              "       [1., 0., 0., 0., 0., 0., 0., 0., 0., 0.],\n",
              "       [1., 0., 0., 0., 0., 0., 0., 0., 0., 0.],\n",
              "       [0., 0., 0., 1., 0., 0., 0., 0., 0., 0.],\n",
              "       [1., 0., 0., 0., 0., 0., 0., 0., 0., 0.]], dtype=float32)"
            ]
          },
          "metadata": {},
          "execution_count": 98
        }
      ]
    },
    {
      "cell_type": "markdown",
      "source": [
        "# Смоделируем нейронную сеть\n",
        "\n"
      ],
      "metadata": {
        "id": "xXFDoxPRSy7J"
      }
    },
    {
      "cell_type": "code",
      "execution_count": 99,
      "metadata": {
        "id": "Am-nk5YxArRi"
      },
      "outputs": [],
      "source": [
        "model = Sequential() #создаем последовательное соединение слоев с прямым распространением\n",
        "model.add(Conv2D(64, kernel_size=3, strides=(2, 2), input_shape=image_shape, padding='same', activation='relu', name='input'))\n",
        "model.add(Conv2D(64, kernel_size=3, padding='same', activation='relu'))\n",
        "model.add(Conv2D(64, kernel_size=3, padding='same', activation='relu'))\n",
        "model.add(Dropout(0.2))\n",
        "model.add(Conv2D(64, kernel_size=3, padding='same', activation='relu'))\n",
        "model.add(Flatten())\n",
        "model.add(Dropout(0.1))\n",
        "model.add(Dense(128, activation='relu'))\n",
        "model.add(Dense(classes_n, 'softmax')) #создаем выходной слой с активацией softmax"
      ]
    },
    {
      "cell_type": "markdown",
      "source": [
        "Выведем краткую информацию о модели"
      ],
      "metadata": {
        "id": "g8eY7qkLUHgh"
      }
    },
    {
      "cell_type": "code",
      "source": [
        "model.summary()"
      ],
      "metadata": {
        "colab": {
          "base_uri": "https://localhost:8080/"
        },
        "id": "a8Hh2hpxUEHM",
        "outputId": "bf90f8a5-97dd-4cd5-8ab6-8ab4daf5d201"
      },
      "execution_count": 100,
      "outputs": [
        {
          "output_type": "stream",
          "name": "stdout",
          "text": [
            "Model: \"sequential_5\"\n",
            "_________________________________________________________________\n",
            " Layer (type)                Output Shape              Param #   \n",
            "=================================================================\n",
            " input (Conv2D)              (None, 4, 4, 64)          640       \n",
            "                                                                 \n",
            " conv2d_15 (Conv2D)          (None, 4, 4, 64)          36928     \n",
            "                                                                 \n",
            " conv2d_16 (Conv2D)          (None, 4, 4, 64)          36928     \n",
            "                                                                 \n",
            " dropout_10 (Dropout)        (None, 4, 4, 64)          0         \n",
            "                                                                 \n",
            " conv2d_17 (Conv2D)          (None, 4, 4, 64)          36928     \n",
            "                                                                 \n",
            " flatten_5 (Flatten)         (None, 1024)              0         \n",
            "                                                                 \n",
            " dropout_11 (Dropout)        (None, 1024)              0         \n",
            "                                                                 \n",
            " dense_10 (Dense)            (None, 128)               131200    \n",
            "                                                                 \n",
            " dense_11 (Dense)            (None, 10)                1290      \n",
            "                                                                 \n",
            "=================================================================\n",
            "Total params: 243,914\n",
            "Trainable params: 243,914\n",
            "Non-trainable params: 0\n",
            "_________________________________________________________________\n"
          ]
        }
      ]
    },
    {
      "cell_type": "markdown",
      "source": [
        "Компилируем нейронную сеть с методом оптимизации Adam.\n",
        "\n",
        "В качестве функции потерь выбираем категориальную кроссэнтропию.\n",
        "\n",
        "В качестве основной метрики оцениваем accuracy (долю верных распознаваний)."
      ],
      "metadata": {
        "id": "fCCuAoZQTYdJ"
      }
    },
    {
      "cell_type": "code",
      "source": [
        "model.compile(\n",
        "    optimizer='adam',\n",
        "    loss=CategoricalCrossentropy(),\n",
        "    metrics=['accuracy']\n",
        ")"
      ],
      "metadata": {
        "id": "GzEEkVEaTX75"
      },
      "execution_count": 101,
      "outputs": []
    },
    {
      "cell_type": "markdown",
      "source": [
        "# Обучаем модель на train датасете"
      ],
      "metadata": {
        "id": "XGQpgPAUS8ah"
      }
    },
    {
      "cell_type": "markdown",
      "source": [
        "Используем 20% данных в качестве валидации.\n",
        "\n",
        "Обучаем в течение 20 эпох и используем на одном этапе обучения 32 примера."
      ],
      "metadata": {
        "id": "ztMXSi50TJdp"
      }
    },
    {
      "cell_type": "code",
      "source": [
        "history = model.fit(X_train, Y_train, validation_split=0.2, epochs=20, batch_size=32)"
      ],
      "metadata": {
        "colab": {
          "base_uri": "https://localhost:8080/"
        },
        "id": "-wYrVGNSS-ap",
        "outputId": "a7083eca-e7e2-4a23-b512-cd5f5d600922"
      },
      "execution_count": 102,
      "outputs": [
        {
          "output_type": "stream",
          "name": "stdout",
          "text": [
            "Epoch 1/20\n",
            "36/36 [==============================] - 3s 30ms/step - loss: 1.0162 - accuracy: 0.6832 - val_loss: 0.2987 - val_accuracy: 0.9028\n",
            "Epoch 2/20\n",
            "36/36 [==============================] - 1s 23ms/step - loss: 0.1984 - accuracy: 0.9391 - val_loss: 0.1558 - val_accuracy: 0.9479\n",
            "Epoch 3/20\n",
            "36/36 [==============================] - 1s 25ms/step - loss: 0.1045 - accuracy: 0.9704 - val_loss: 0.1550 - val_accuracy: 0.9410\n",
            "Epoch 4/20\n",
            "36/36 [==============================] - 1s 22ms/step - loss: 0.0816 - accuracy: 0.9774 - val_loss: 0.1722 - val_accuracy: 0.9583\n",
            "Epoch 5/20\n",
            "36/36 [==============================] - 1s 23ms/step - loss: 0.0609 - accuracy: 0.9774 - val_loss: 0.1285 - val_accuracy: 0.9583\n",
            "Epoch 6/20\n",
            "36/36 [==============================] - 1s 31ms/step - loss: 0.0282 - accuracy: 0.9922 - val_loss: 0.0957 - val_accuracy: 0.9722\n",
            "Epoch 7/20\n",
            "36/36 [==============================] - 1s 39ms/step - loss: 0.0198 - accuracy: 0.9930 - val_loss: 0.0926 - val_accuracy: 0.9722\n",
            "Epoch 8/20\n",
            "36/36 [==============================] - 1s 34ms/step - loss: 0.0153 - accuracy: 0.9930 - val_loss: 0.1243 - val_accuracy: 0.9618\n",
            "Epoch 9/20\n",
            "36/36 [==============================] - 1s 21ms/step - loss: 0.0190 - accuracy: 0.9922 - val_loss: 0.1377 - val_accuracy: 0.9618\n",
            "Epoch 10/20\n",
            "36/36 [==============================] - 1s 22ms/step - loss: 0.0343 - accuracy: 0.9913 - val_loss: 0.1411 - val_accuracy: 0.9618\n",
            "Epoch 11/20\n",
            "36/36 [==============================] - 1s 22ms/step - loss: 0.0270 - accuracy: 0.9930 - val_loss: 0.0916 - val_accuracy: 0.9653\n",
            "Epoch 12/20\n",
            "36/36 [==============================] - 1s 22ms/step - loss: 0.0181 - accuracy: 0.9948 - val_loss: 0.0482 - val_accuracy: 0.9757\n",
            "Epoch 13/20\n",
            "36/36 [==============================] - 1s 23ms/step - loss: 0.0186 - accuracy: 0.9939 - val_loss: 0.1671 - val_accuracy: 0.9583\n",
            "Epoch 14/20\n",
            "36/36 [==============================] - 1s 22ms/step - loss: 0.0383 - accuracy: 0.9852 - val_loss: 0.1318 - val_accuracy: 0.9583\n",
            "Epoch 15/20\n",
            "36/36 [==============================] - 1s 21ms/step - loss: 0.0466 - accuracy: 0.9800 - val_loss: 0.1043 - val_accuracy: 0.9757\n",
            "Epoch 16/20\n",
            "36/36 [==============================] - 1s 23ms/step - loss: 0.0224 - accuracy: 0.9922 - val_loss: 0.1680 - val_accuracy: 0.9514\n",
            "Epoch 17/20\n",
            "36/36 [==============================] - 1s 23ms/step - loss: 0.0166 - accuracy: 0.9948 - val_loss: 0.0355 - val_accuracy: 0.9861\n",
            "Epoch 18/20\n",
            "36/36 [==============================] - 1s 21ms/step - loss: 0.0038 - accuracy: 0.9991 - val_loss: 0.0793 - val_accuracy: 0.9757\n",
            "Epoch 19/20\n",
            "36/36 [==============================] - 1s 22ms/step - loss: 7.1686e-04 - accuracy: 1.0000 - val_loss: 0.0592 - val_accuracy: 0.9861\n",
            "Epoch 20/20\n",
            "36/36 [==============================] - 1s 21ms/step - loss: 2.0557e-04 - accuracy: 1.0000 - val_loss: 0.0580 - val_accuracy: 0.9861\n"
          ]
        }
      ]
    },
    {
      "cell_type": "markdown",
      "source": [
        "Сохраним историю обучения в датафрейме pandas"
      ],
      "metadata": {
        "id": "g9ZUN_NaXZx7"
      }
    },
    {
      "cell_type": "code",
      "source": [
        "history_df = pd.DataFrame(history.history) #создаем датафрейм и записываем туда метрики из истории\n",
        "history_df[\"epoch\"] = history.epoch #создаем столбец с номерами эпох обучения (начинаем с 0)\n",
        "history_df #выводим датафрейм"
      ],
      "metadata": {
        "colab": {
          "base_uri": "https://localhost:8080/",
          "height": 677
        },
        "id": "W0gKb4vCKGNs",
        "outputId": "ca524d3c-79b1-4629-be3b-a4fc61a80ba4"
      },
      "execution_count": 103,
      "outputs": [
        {
          "output_type": "execute_result",
          "data": {
            "text/plain": [
              "        loss  accuracy  val_loss  val_accuracy  epoch\n",
              "0   1.016247  0.683203  0.298730      0.902778      0\n",
              "1   0.198444  0.939077  0.155826      0.947917      1\n",
              "2   0.104550  0.970409  0.154995      0.940972      2\n",
              "3   0.081585  0.977372  0.172213      0.958333      3\n",
              "4   0.060930  0.977372  0.128491      0.958333      4\n",
              "5   0.028206  0.992167  0.095729      0.972222      5\n",
              "6   0.019826  0.993037  0.092631      0.972222      6\n",
              "7   0.015276  0.993037  0.124294      0.961806      7\n",
              "8   0.019033  0.992167  0.137728      0.961806      8\n",
              "9   0.034302  0.991297  0.141119      0.961806      9\n",
              "10  0.027024  0.993037  0.091589      0.965278     10\n",
              "11  0.018131  0.994778  0.048188      0.975694     11\n",
              "12  0.018591  0.993908  0.167107      0.958333     12\n",
              "13  0.038260  0.985205  0.131848      0.958333     13\n",
              "14  0.046634  0.979983  0.104348      0.975694     14\n",
              "15  0.022415  0.992167  0.167994      0.951389     15\n",
              "16  0.016568  0.994778  0.035494      0.986111     16\n",
              "17  0.003842  0.999130  0.079280      0.975694     17\n",
              "18  0.000717  1.000000  0.059226      0.986111     18\n",
              "19  0.000206  1.000000  0.058044      0.986111     19"
            ],
            "text/html": [
              "\n",
              "  <div id=\"df-5da6e5a4-e03b-4f30-9b6e-4981884cba60\">\n",
              "    <div class=\"colab-df-container\">\n",
              "      <div>\n",
              "<style scoped>\n",
              "    .dataframe tbody tr th:only-of-type {\n",
              "        vertical-align: middle;\n",
              "    }\n",
              "\n",
              "    .dataframe tbody tr th {\n",
              "        vertical-align: top;\n",
              "    }\n",
              "\n",
              "    .dataframe thead th {\n",
              "        text-align: right;\n",
              "    }\n",
              "</style>\n",
              "<table border=\"1\" class=\"dataframe\">\n",
              "  <thead>\n",
              "    <tr style=\"text-align: right;\">\n",
              "      <th></th>\n",
              "      <th>loss</th>\n",
              "      <th>accuracy</th>\n",
              "      <th>val_loss</th>\n",
              "      <th>val_accuracy</th>\n",
              "      <th>epoch</th>\n",
              "    </tr>\n",
              "  </thead>\n",
              "  <tbody>\n",
              "    <tr>\n",
              "      <th>0</th>\n",
              "      <td>1.016247</td>\n",
              "      <td>0.683203</td>\n",
              "      <td>0.298730</td>\n",
              "      <td>0.902778</td>\n",
              "      <td>0</td>\n",
              "    </tr>\n",
              "    <tr>\n",
              "      <th>1</th>\n",
              "      <td>0.198444</td>\n",
              "      <td>0.939077</td>\n",
              "      <td>0.155826</td>\n",
              "      <td>0.947917</td>\n",
              "      <td>1</td>\n",
              "    </tr>\n",
              "    <tr>\n",
              "      <th>2</th>\n",
              "      <td>0.104550</td>\n",
              "      <td>0.970409</td>\n",
              "      <td>0.154995</td>\n",
              "      <td>0.940972</td>\n",
              "      <td>2</td>\n",
              "    </tr>\n",
              "    <tr>\n",
              "      <th>3</th>\n",
              "      <td>0.081585</td>\n",
              "      <td>0.977372</td>\n",
              "      <td>0.172213</td>\n",
              "      <td>0.958333</td>\n",
              "      <td>3</td>\n",
              "    </tr>\n",
              "    <tr>\n",
              "      <th>4</th>\n",
              "      <td>0.060930</td>\n",
              "      <td>0.977372</td>\n",
              "      <td>0.128491</td>\n",
              "      <td>0.958333</td>\n",
              "      <td>4</td>\n",
              "    </tr>\n",
              "    <tr>\n",
              "      <th>5</th>\n",
              "      <td>0.028206</td>\n",
              "      <td>0.992167</td>\n",
              "      <td>0.095729</td>\n",
              "      <td>0.972222</td>\n",
              "      <td>5</td>\n",
              "    </tr>\n",
              "    <tr>\n",
              "      <th>6</th>\n",
              "      <td>0.019826</td>\n",
              "      <td>0.993037</td>\n",
              "      <td>0.092631</td>\n",
              "      <td>0.972222</td>\n",
              "      <td>6</td>\n",
              "    </tr>\n",
              "    <tr>\n",
              "      <th>7</th>\n",
              "      <td>0.015276</td>\n",
              "      <td>0.993037</td>\n",
              "      <td>0.124294</td>\n",
              "      <td>0.961806</td>\n",
              "      <td>7</td>\n",
              "    </tr>\n",
              "    <tr>\n",
              "      <th>8</th>\n",
              "      <td>0.019033</td>\n",
              "      <td>0.992167</td>\n",
              "      <td>0.137728</td>\n",
              "      <td>0.961806</td>\n",
              "      <td>8</td>\n",
              "    </tr>\n",
              "    <tr>\n",
              "      <th>9</th>\n",
              "      <td>0.034302</td>\n",
              "      <td>0.991297</td>\n",
              "      <td>0.141119</td>\n",
              "      <td>0.961806</td>\n",
              "      <td>9</td>\n",
              "    </tr>\n",
              "    <tr>\n",
              "      <th>10</th>\n",
              "      <td>0.027024</td>\n",
              "      <td>0.993037</td>\n",
              "      <td>0.091589</td>\n",
              "      <td>0.965278</td>\n",
              "      <td>10</td>\n",
              "    </tr>\n",
              "    <tr>\n",
              "      <th>11</th>\n",
              "      <td>0.018131</td>\n",
              "      <td>0.994778</td>\n",
              "      <td>0.048188</td>\n",
              "      <td>0.975694</td>\n",
              "      <td>11</td>\n",
              "    </tr>\n",
              "    <tr>\n",
              "      <th>12</th>\n",
              "      <td>0.018591</td>\n",
              "      <td>0.993908</td>\n",
              "      <td>0.167107</td>\n",
              "      <td>0.958333</td>\n",
              "      <td>12</td>\n",
              "    </tr>\n",
              "    <tr>\n",
              "      <th>13</th>\n",
              "      <td>0.038260</td>\n",
              "      <td>0.985205</td>\n",
              "      <td>0.131848</td>\n",
              "      <td>0.958333</td>\n",
              "      <td>13</td>\n",
              "    </tr>\n",
              "    <tr>\n",
              "      <th>14</th>\n",
              "      <td>0.046634</td>\n",
              "      <td>0.979983</td>\n",
              "      <td>0.104348</td>\n",
              "      <td>0.975694</td>\n",
              "      <td>14</td>\n",
              "    </tr>\n",
              "    <tr>\n",
              "      <th>15</th>\n",
              "      <td>0.022415</td>\n",
              "      <td>0.992167</td>\n",
              "      <td>0.167994</td>\n",
              "      <td>0.951389</td>\n",
              "      <td>15</td>\n",
              "    </tr>\n",
              "    <tr>\n",
              "      <th>16</th>\n",
              "      <td>0.016568</td>\n",
              "      <td>0.994778</td>\n",
              "      <td>0.035494</td>\n",
              "      <td>0.986111</td>\n",
              "      <td>16</td>\n",
              "    </tr>\n",
              "    <tr>\n",
              "      <th>17</th>\n",
              "      <td>0.003842</td>\n",
              "      <td>0.999130</td>\n",
              "      <td>0.079280</td>\n",
              "      <td>0.975694</td>\n",
              "      <td>17</td>\n",
              "    </tr>\n",
              "    <tr>\n",
              "      <th>18</th>\n",
              "      <td>0.000717</td>\n",
              "      <td>1.000000</td>\n",
              "      <td>0.059226</td>\n",
              "      <td>0.986111</td>\n",
              "      <td>18</td>\n",
              "    </tr>\n",
              "    <tr>\n",
              "      <th>19</th>\n",
              "      <td>0.000206</td>\n",
              "      <td>1.000000</td>\n",
              "      <td>0.058044</td>\n",
              "      <td>0.986111</td>\n",
              "      <td>19</td>\n",
              "    </tr>\n",
              "  </tbody>\n",
              "</table>\n",
              "</div>\n",
              "      <button class=\"colab-df-convert\" onclick=\"convertToInteractive('df-5da6e5a4-e03b-4f30-9b6e-4981884cba60')\"\n",
              "              title=\"Convert this dataframe to an interactive table.\"\n",
              "              style=\"display:none;\">\n",
              "        \n",
              "  <svg xmlns=\"http://www.w3.org/2000/svg\" height=\"24px\"viewBox=\"0 0 24 24\"\n",
              "       width=\"24px\">\n",
              "    <path d=\"M0 0h24v24H0V0z\" fill=\"none\"/>\n",
              "    <path d=\"M18.56 5.44l.94 2.06.94-2.06 2.06-.94-2.06-.94-.94-2.06-.94 2.06-2.06.94zm-11 1L8.5 8.5l.94-2.06 2.06-.94-2.06-.94L8.5 2.5l-.94 2.06-2.06.94zm10 10l.94 2.06.94-2.06 2.06-.94-2.06-.94-.94-2.06-.94 2.06-2.06.94z\"/><path d=\"M17.41 7.96l-1.37-1.37c-.4-.4-.92-.59-1.43-.59-.52 0-1.04.2-1.43.59L10.3 9.45l-7.72 7.72c-.78.78-.78 2.05 0 2.83L4 21.41c.39.39.9.59 1.41.59.51 0 1.02-.2 1.41-.59l7.78-7.78 2.81-2.81c.8-.78.8-2.07 0-2.86zM5.41 20L4 18.59l7.72-7.72 1.47 1.35L5.41 20z\"/>\n",
              "  </svg>\n",
              "      </button>\n",
              "      \n",
              "  <style>\n",
              "    .colab-df-container {\n",
              "      display:flex;\n",
              "      flex-wrap:wrap;\n",
              "      gap: 12px;\n",
              "    }\n",
              "\n",
              "    .colab-df-convert {\n",
              "      background-color: #E8F0FE;\n",
              "      border: none;\n",
              "      border-radius: 50%;\n",
              "      cursor: pointer;\n",
              "      display: none;\n",
              "      fill: #1967D2;\n",
              "      height: 32px;\n",
              "      padding: 0 0 0 0;\n",
              "      width: 32px;\n",
              "    }\n",
              "\n",
              "    .colab-df-convert:hover {\n",
              "      background-color: #E2EBFA;\n",
              "      box-shadow: 0px 1px 2px rgba(60, 64, 67, 0.3), 0px 1px 3px 1px rgba(60, 64, 67, 0.15);\n",
              "      fill: #174EA6;\n",
              "    }\n",
              "\n",
              "    [theme=dark] .colab-df-convert {\n",
              "      background-color: #3B4455;\n",
              "      fill: #D2E3FC;\n",
              "    }\n",
              "\n",
              "    [theme=dark] .colab-df-convert:hover {\n",
              "      background-color: #434B5C;\n",
              "      box-shadow: 0px 1px 3px 1px rgba(0, 0, 0, 0.15);\n",
              "      filter: drop-shadow(0px 1px 2px rgba(0, 0, 0, 0.3));\n",
              "      fill: #FFFFFF;\n",
              "    }\n",
              "  </style>\n",
              "\n",
              "      <script>\n",
              "        const buttonEl =\n",
              "          document.querySelector('#df-5da6e5a4-e03b-4f30-9b6e-4981884cba60 button.colab-df-convert');\n",
              "        buttonEl.style.display =\n",
              "          google.colab.kernel.accessAllowed ? 'block' : 'none';\n",
              "\n",
              "        async function convertToInteractive(key) {\n",
              "          const element = document.querySelector('#df-5da6e5a4-e03b-4f30-9b6e-4981884cba60');\n",
              "          const dataTable =\n",
              "            await google.colab.kernel.invokeFunction('convertToInteractive',\n",
              "                                                     [key], {});\n",
              "          if (!dataTable) return;\n",
              "\n",
              "          const docLinkHtml = 'Like what you see? Visit the ' +\n",
              "            '<a target=\"_blank\" href=https://colab.research.google.com/notebooks/data_table.ipynb>data table notebook</a>'\n",
              "            + ' to learn more about interactive tables.';\n",
              "          element.innerHTML = '';\n",
              "          dataTable['output_type'] = 'display_data';\n",
              "          await google.colab.output.renderOutput(dataTable, element);\n",
              "          const docLink = document.createElement('div');\n",
              "          docLink.innerHTML = docLinkHtml;\n",
              "          element.appendChild(docLink);\n",
              "        }\n",
              "      </script>\n",
              "    </div>\n",
              "  </div>\n",
              "  "
            ]
          },
          "metadata": {},
          "execution_count": 103
        }
      ]
    },
    {
      "cell_type": "markdown",
      "source": [
        "Строим кривые обучения"
      ],
      "metadata": {
        "id": "Ai0U8Ec0Xera"
      }
    },
    {
      "cell_type": "code",
      "source": [
        "fig, (ax0, ax1) = plt.subplots(nrows=2, sharex=True, figsize=(10, 8)) #создаем фигуру и оси для отрисовки 2 графиков\n",
        "history_df.plot(x=\"epoch\", y=[\"loss\", \"val_loss\"], ax=ax0, grid=True) #рисуем значения потерь для обучающих и валидационных данных\n",
        "history_df.plot(x=\"epoch\", y=[\"accuracy\", \"val_accuracy\"], ax=ax1, grid=True) #рисуем значения точности для обучающих и валидационных данных"
      ],
      "metadata": {
        "colab": {
          "base_uri": "https://localhost:8080/",
          "height": 519
        },
        "id": "Sxd5vOyLKQia",
        "outputId": "5bf7ee93-e213-4195-99f6-b4f516ba3cbc"
      },
      "execution_count": 104,
      "outputs": [
        {
          "output_type": "execute_result",
          "data": {
            "text/plain": [
              "<AxesSubplot:xlabel='epoch'>"
            ]
          },
          "metadata": {},
          "execution_count": 104
        },
        {
          "output_type": "display_data",
          "data": {
            "text/plain": [
              "<Figure size 720x576 with 2 Axes>"
            ],
            "image/png": "[encoded data removed]"
          },
          "metadata": {}
        }
      ]
    },
    {
      "cell_type": "markdown",
      "source": [
        "# Сделаем прогноз для тестовых данных и оценим его"
      ],
      "metadata": {
        "id": "x1RzhGhUYCh7"
      }
    },
    {
      "cell_type": "code",
      "source": [
        "y_pred = np.argmax(model.predict(X_test), axis=1) #прогнозные значения"
      ],
      "metadata": {
        "colab": {
          "base_uri": "https://localhost:8080/"
        },
        "id": "vjICXgoUMyuw",
        "outputId": "63320c07-3494-4d65-cc64-3ec947d66399"
      },
      "execution_count": 105,
      "outputs": [
        {
          "output_type": "stream",
          "name": "stdout",
          "text": [
            "12/12 [==============================] - 0s 7ms/step\n"
          ]
        }
      ]
    },
    {
      "cell_type": "markdown",
      "source": [
        "Отчет о классификации"
      ],
      "metadata": {
        "id": "EEioOcKccsYH"
      }
    },
    {
      "cell_type": "code",
      "source": [
        "print(classification_report(y_test, y_pred))"
      ],
      "metadata": {
        "colab": {
          "base_uri": "https://localhost:8080/"
        },
        "id": "_FgYbCQSco1A",
        "outputId": "d5643847-311b-4fe5-8264-288343c64735"
      },
      "execution_count": 106,
      "outputs": [
        {
          "output_type": "stream",
          "name": "stdout",
          "text": [
            "              precision    recall  f1-score   support\n",
            "\n",
            "           0       1.00      1.00      1.00        33\n",
            "           1       1.00      1.00      1.00        28\n",
            "           2       1.00      1.00      1.00        33\n",
            "           3       1.00      1.00      1.00        34\n",
            "           4       1.00      1.00      1.00        46\n",
            "           5       0.98      0.98      0.98        47\n",
            "           6       0.97      0.97      0.97        35\n",
            "           7       0.97      1.00      0.99        34\n",
            "           8       1.00      1.00      1.00        30\n",
            "           9       1.00      0.97      0.99        40\n",
            "\n",
            "    accuracy                           0.99       360\n",
            "   macro avg       0.99      0.99      0.99       360\n",
            "weighted avg       0.99      0.99      0.99       360\n",
            "\n"
          ]
        }
      ]
    },
    {
      "cell_type": "markdown",
      "source": [
        "Функция вывода матрицы соответствий"
      ],
      "metadata": {
        "id": "szieT8ZbYNCq"
      }
    },
    {
      "cell_type": "code",
      "source": [
        "def cm_plot(y_test, y_pred):\n",
        "    cm = confusion_matrix(y_test, y_pred)\n",
        "    cmn = cm.astype('float') / cm.sum(axis=1)[:, np.newaxis]\n",
        "    fig, ax = plt.subplots(figsize=(10, 10))\n",
        "    sns.heatmap(cmn, cmap='Blues', annot=True, fmt='.2f')\n",
        "    sns.set(font_scale=1.3)\n",
        "    plt.title(\"Confusion Matrix\")\n",
        "    return plt.show()"
      ],
      "metadata": {
        "execution": {
          "iopub.status.busy": "2023-02-10T09:43:53.419726Z",
          "iopub.execute_input": "2023-02-10T09:43:53.420773Z",
          "iopub.status.idle": "2023-02-10T09:43:53.427103Z",
          "shell.execute_reply.started": "2023-02-10T09:43:53.420733Z",
          "shell.execute_reply": "2023-02-10T09:43:53.426014Z"
        },
        "trusted": true,
        "id": "Q7i2qOXoDQzY"
      },
      "execution_count": 107,
      "outputs": []
    },
    {
      "cell_type": "markdown",
      "source": [
        "Выведем матрицу соответствий"
      ],
      "metadata": {
        "id": "iVm0GVKLXxvp"
      }
    },
    {
      "cell_type": "code",
      "source": [
        "cm_plot(y_test, y_pred)"
      ],
      "metadata": {
        "colab": {
          "base_uri": "https://localhost:8080/",
          "height": 612
        },
        "id": "k5FNZvauXw8C",
        "outputId": "142aa7ec-d5f0-4009-91d4-194829264929"
      },
      "execution_count": 108,
      "outputs": [
        {
          "output_type": "display_data",
          "data": {
            "text/plain": [
              "<Figure size 720x720 with 2 Axes>"
            ],
            "image/png": "[encoded data removed]"
          },
          "metadata": {}
        }
      ]
    },
    {
      "cell_type": "markdown",
      "source": [
        "Выведем примеры изображений, которые были распознаны неверно."
      ],
      "metadata": {
        "id": "HsdyFv6oVSQA"
      }
    },
    {
      "cell_type": "code",
      "source": [
        "y_dif = pd.DataFrame(abs(y_test - y_pred))\n",
        "\n",
        "# количество неверно распознанных цифр\n",
        "y_dif_len = len(y_dif[y_dif[0] > 0])\n",
        "y_dif_len"
      ],
      "metadata": {
        "colab": {
          "base_uri": "https://localhost:8080/"
        },
        "id": "gHyK1G2qXe7h",
        "outputId": "c8a87189-5e85-4a13-fefa-f9ffb04a931e"
      },
      "execution_count": 109,
      "outputs": [
        {
          "output_type": "execute_result",
          "data": {
            "text/plain": [
              "3"
            ]
          },
          "metadata": {},
          "execution_count": 109
        }
      ]
    },
    {
      "cell_type": "code",
      "source": [
        "fig, ax = plt.subplots(1, y_dif_len, figsize=(10, 6))\n",
        "\n",
        "j = 0\n",
        "for i in range(y_dif_len):\n",
        "  ax[j].imshow(X_test[y_dif[0] > 0][i], cmap=plt.cm.gray_r, interpolation='nearest')\n",
        "  ax[j].set_title(str(y_pred[y_dif[0] > 0][i]) + ' (real: ' + str(y_test[y_dif[0] > 0][i]) + ')')\n",
        "  j = j + 1\n",
        "\n",
        "plt.show()"
      ],
      "metadata": {
        "colab": {
          "base_uri": "https://localhost:8080/",
          "height": 237
        },
        "outputId": "a719bf10-269d-42e6-d4b0-c1dae9dc8c54",
        "id": "wexxqdjNLLpM"
      },
      "execution_count": 110,
      "outputs": [
        {
          "output_type": "display_data",
          "data": {
            "text/plain": [
              "<Figure size 720x432 with 3 Axes>"
            ],
            "image/png": "[encoded data removed]"
          },
          "metadata": {}
        }
      ]
    }
  ]
}